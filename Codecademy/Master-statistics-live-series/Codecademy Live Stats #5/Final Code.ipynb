{
 "cells": [
  {
   "cell_type": "code",
   "execution_count": 2,
   "metadata": {},
   "outputs": [],
   "source": [
    "import pandas as pd\n",
    "import numpy as np\n",
    "import matplotlib.pyplot as plt \n",
    "import seaborn as sns\n",
    "import random"
   ]
  },
  {
   "cell_type": "code",
   "execution_count": 4,
   "metadata": {},
   "outputs": [],
   "source": [
    "monthly_report = pd.read_csv('monthly_report.csv')"
   ]
  },
  {
   "cell_type": "code",
   "execution_count": 5,
   "metadata": {},
   "outputs": [
    {
     "data": {
      "text/html": [
       "<div>\n",
       "<style scoped>\n",
       "    .dataframe tbody tr th:only-of-type {\n",
       "        vertical-align: middle;\n",
       "    }\n",
       "\n",
       "    .dataframe tbody tr th {\n",
       "        vertical-align: top;\n",
       "    }\n",
       "\n",
       "    .dataframe thead th {\n",
       "        text-align: right;\n",
       "    }\n",
       "</style>\n",
       "<table border=\"1\" class=\"dataframe\">\n",
       "  <thead>\n",
       "    <tr style=\"text-align: right;\">\n",
       "      <th></th>\n",
       "      <th>timestamp</th>\n",
       "      <th>purchase</th>\n",
       "      <th>item</th>\n",
       "    </tr>\n",
       "  </thead>\n",
       "  <tbody>\n",
       "    <tr>\n",
       "      <th>0</th>\n",
       "      <td>2020-01-17 17:23:06</td>\n",
       "      <td>y</td>\n",
       "      <td>cue cards - love actually</td>\n",
       "    </tr>\n",
       "    <tr>\n",
       "      <th>1</th>\n",
       "      <td>2020-01-25 17:09:39</td>\n",
       "      <td>n</td>\n",
       "      <td>NaN</td>\n",
       "    </tr>\n",
       "    <tr>\n",
       "      <th>2</th>\n",
       "      <td>2020-01-25 05:22:01</td>\n",
       "      <td>n</td>\n",
       "      <td>NaN</td>\n",
       "    </tr>\n",
       "    <tr>\n",
       "      <th>3</th>\n",
       "      <td>2020-01-18 04:33:40</td>\n",
       "      <td>y</td>\n",
       "      <td>t-rex - jurassic park</td>\n",
       "    </tr>\n",
       "    <tr>\n",
       "      <th>4</th>\n",
       "      <td>2020-01-24 17:24:52</td>\n",
       "      <td>n</td>\n",
       "      <td>NaN</td>\n",
       "    </tr>\n",
       "  </tbody>\n",
       "</table>\n",
       "</div>"
      ],
      "text/plain": [
       "             timestamp purchase                       item\n",
       "0  2020-01-17 17:23:06        y  cue cards - love actually\n",
       "1  2020-01-25 17:09:39        n                        NaN\n",
       "2  2020-01-25 05:22:01        n                        NaN\n",
       "3  2020-01-18 04:33:40        y      t-rex - jurassic park\n",
       "4  2020-01-24 17:24:52        n                        NaN"
      ]
     },
     "execution_count": 5,
     "metadata": {},
     "output_type": "execute_result"
    }
   ],
   "source": [
    "monthly_report.head()"
   ]
  },
  {
   "cell_type": "code",
   "execution_count": 6,
   "metadata": {},
   "outputs": [
    {
     "name": "stdout",
     "output_type": "stream",
     "text": [
      "sample size:\n",
      "500\n",
      "number of purchases:\n",
      "41\n"
     ]
    }
   ],
   "source": [
    "#calculate and print sample_size:\n",
    "sample_size = len(monthly_report)\n",
    "print('sample size:')\n",
    "print(sample_size)\n",
    "\n",
    "#calculate and print num_purchased:\n",
    "num_purchased = np.sum(monthly_report.purchase == 'y')\n",
    "print(\"number of purchases:\")\n",
    "print(num_purchased)"
   ]
  },
  {
   "cell_type": "code",
   "execution_count": 8,
   "metadata": {},
   "outputs": [
    {
     "name": "stdout",
     "output_type": "stream",
     "text": [
      "['y']\n",
      "['n' 'n' 'n' 'n' 'n' 'y' 'n' 'n' 'n' 'n']\n"
     ]
    }
   ],
   "source": [
    "#simulate one visitor:\n",
    "one_visitor = np.random.choice(['y', 'n'], size=1, p=[0.1, 0.9])\n",
    "print(one_visitor)\n",
    "\n",
    "#simulate 10 visitors:\n",
    "simulated_monthly_visitors = np.random.choice(['y', 'n'], size=10, p=[0.1, 0.9])\n",
    "print(simulated_monthly_visitors)"
   ]
  },
  {
   "cell_type": "code",
   "execution_count": 9,
   "metadata": {},
   "outputs": [
    {
     "name": "stdout",
     "output_type": "stream",
     "text": [
      "46\n"
     ]
    }
   ],
   "source": [
    "#simulate 500 visitors:\n",
    "simulated_monthly_visitors = np.random.choice(['y', 'n'], size=500, p=[0.1, 0.9])\n",
    "\n",
    "#calculate the number of simulated visitors who made a purchase:\n",
    "num_purchased = np.sum(simulated_monthly_visitors == 'y')\n",
    "print(num_purchased)"
   ]
  },
  {
   "cell_type": "code",
   "execution_count": 10,
   "metadata": {},
   "outputs": [
    {
     "name": "stdout",
     "output_type": "stream",
     "text": [
      "28\n",
      "79\n"
     ]
    }
   ],
   "source": [
    "null_outcomes = []\n",
    "\n",
    "#start for loop here:\n",
    "for i in range(10000):\n",
    "  simulated_monthly_visitors = np.random.choice(['y', 'n'], size=500, p=[0.1, 0.9])\n",
    "\n",
    "  num_purchased = np.sum(simulated_monthly_visitors == 'y')\n",
    "\n",
    "  null_outcomes.append(num_purchased)\n",
    "\n",
    "#calculate the minimum and maximum values in null_outcomes here:\n",
    "null_min = np.min(null_outcomes) \n",
    "print(null_min) \n",
    "\n",
    "null_max = np.max(null_outcomes)\n",
    "print(null_max)"
   ]
  },
  {
   "cell_type": "code",
   "execution_count": 11,
   "metadata": {},
   "outputs": [
    {
     "data": {
      "image/png": "[encoded data removed]",
      "text/plain": [
       "<Figure size 432x288 with 1 Axes>"
      ]
     },
     "metadata": {
      "needs_background": "light"
     },
     "output_type": "display_data"
    }
   ],
   "source": [
    "plt.hist(null_outcomes)\n",
    "plt.axvline(41, color = 'r')\n",
    "plt.show()"
   ]
  },
  {
   "cell_type": "code",
   "execution_count": 12,
   "metadata": {},
   "outputs": [
    {
     "name": "stdout",
     "output_type": "stream",
     "text": [
      "[39. 61.]\n"
     ]
    }
   ],
   "source": [
    "null_90CI = np.percentile(null_outcomes, [5,95])\n",
    "print(null_90CI)"
   ]
  },
  {
   "cell_type": "code",
   "execution_count": 13,
   "metadata": {},
   "outputs": [
    {
     "name": "stdout",
     "output_type": "stream",
     "text": [
      "0.0967\n"
     ]
    }
   ],
   "source": [
    "#calculate 1-sided p-value\n",
    "null_outcomes = np.array(null_outcomes)\n",
    "p_value = np.sum(null_outcomes <= 41)/len(null_outcomes) \n",
    "print(p_value)"
   ]
  },
  {
   "cell_type": "code",
   "execution_count": 14,
   "metadata": {},
   "outputs": [
    {
     "name": "stdout",
     "output_type": "stream",
     "text": [
      "0.1992\n"
     ]
    }
   ],
   "source": [
    "#calculate the 2-sided p-value:\n",
    "null_outcomes = np.array(null_outcomes)\n",
    "p_value = np.sum((null_outcomes <= 41) | (null_outcomes >= 59))/len(null_outcomes) \n",
    "print(p_value)"
   ]
  },
  {
   "cell_type": "code",
   "execution_count": 15,
   "metadata": {},
   "outputs": [],
   "source": [
    "def simulation_binomial_test(observed_successes, n, p):\n",
    "  #initialize null_outcomes\n",
    "  null_outcomes = []\n",
    "  \n",
    "  #generate the simulated null distribution\n",
    "  for i in range(10000):\n",
    "    simulated_monthly_visitors = np.random.choice(['y', 'n'], size=n, p=[p, 1-p])\n",
    "    num_purchased = np.sum(simulated_monthly_visitors == 'y')\n",
    "    null_outcomes.append(num_purchased)\n",
    "\n",
    "  #calculate a 1-sided p-value\n",
    "  null_outcomes = np.array(null_outcomes)\n",
    "  p_value = np.sum(null_outcomes <= observed_successes)/len(null_outcomes) \n",
    "  \n",
    "  #return the p-value\n",
    "  return p_value"
   ]
  },
  {
   "cell_type": "code",
   "execution_count": 16,
   "metadata": {},
   "outputs": [
    {
     "name": "stdout",
     "output_type": "stream",
     "text": [
      "simulation p-value:  0.2556\n",
      "binom_test p-value:  0.25468926056232155\n"
     ]
    }
   ],
   "source": [
    "#Test the function (compared to scipy)\n",
    "p_value1 = simulation_binomial_test(45, 500, .1)\n",
    "print(\"simulation p-value: \", p_value1)\n",
    "\n",
    "\n",
    "from scipy.stats import binom_test\n",
    "p_value2 = binom_test(45, 500, .1, alternative = 'less')\n",
    "print(\"binom_test p-value: \", p_value2)"
   ]
  },
  {
   "cell_type": "code",
   "execution_count": 17,
   "metadata": {},
   "outputs": [],
   "source": [
    "#redefine the function to accept different alternative hypotheses\n",
    "def simulation_binomial_test(observed_successes, n, p, alternative_hypothesis):\n",
    "  #initialize null_outcomes\n",
    "  null_outcomes = []\n",
    "  \n",
    "  #generate the simulated null distribution\n",
    "  for i in range(10000):\n",
    "    simulated_monthly_visitors = np.random.choice(['y', 'n'], size=n, p=[p, 1-p])\n",
    "    num_purchased = np.sum(simulated_monthly_visitors == 'y')\n",
    "    null_outcomes.append(num_purchased)\n",
    "\n",
    "  null_outcomes = np.array(null_outcomes)\n",
    "\n",
    "  if alternative_hypothesis == 'less':\n",
    "    p_value = np.sum(null_outcomes <= observed_successes)/len(null_outcomes) \n",
    "  elif alternative_hypothesis == 'greater':\n",
    "    p_value = np.sum(null_outcomes >= observed_successes)/len(null_outcomes)\n",
    "  else:\n",
    "    difference = np.abs(p*n - observed_successes)\n",
    "    upper = p*n + difference\n",
    "    lower = p*n - difference\n",
    "    p_value = np.sum((null_outcomes >= upper) | (null_outcomes <= lower))/len(null_outcomes)\n",
    "  \n",
    "  #return the p-value\n",
    "  return p_value"
   ]
  },
  {
   "cell_type": "code",
   "execution_count": 18,
   "metadata": {},
   "outputs": [
    {
     "name": "stdout",
     "output_type": "stream",
     "text": [
      "lower tail one-sided test:\n",
      "simulation p-value:  0.2556\n",
      "binom_test p-value:  0.25468926056232155\n",
      "upper tail one-sided test:\n",
      "simulation p-value:  0.3504\n",
      "binom_test p-value:  0.3483811994999115\n",
      "two-sided test:\n",
      "simulation p-value:  0.2578\n",
      "binom_test p-value:  0.26313834687316334\n"
     ]
    }
   ],
   "source": [
    "#Test the function:\n",
    "print('lower tail one-sided test:')\n",
    "p_value1 = simulation_binomial_test(45, 500, .1, alternative_hypothesis = 'less')\n",
    "print(\"simulation p-value: \", p_value1)\n",
    "\n",
    "p_value2 = binom_test(45, 500, .1, alternative = 'less')\n",
    "print(\"binom_test p-value: \", p_value2)\n",
    "\n",
    "print('upper tail one-sided test:')\n",
    "p_value1 = simulation_binomial_test(53, 500, .1, alternative_hypothesis = 'greater')\n",
    "print(\"simulation p-value: \", p_value1)\n",
    "\n",
    "p_value2 = binom_test(53, 500, .1, alternative = 'greater')\n",
    "print(\"binom_test p-value: \", p_value2)\n",
    "\n",
    "print('two-sided test:')\n",
    "p_value1 = simulation_binomial_test(42, 500, .1, alternative_hypothesis = 'not_equal')\n",
    "print(\"simulation p-value: \", p_value1)\n",
    "\n",
    "p_value2 = binom_test(42, 500, .1)\n",
    "print(\"binom_test p-value: \", p_value2)"
   ]
  },
  {
   "cell_type": "code",
   "execution_count": null,
   "metadata": {},
   "outputs": [],
   "source": []
  }
 ],
 "metadata": {
  "kernelspec": {
   "display_name": "Python 3",
   "language": "python",
   "name": "python3"
  },
  "language_info": {
   "codemirror_mode": {
    "name": "ipython",
    "version": 3
   },
   "file_extension": ".py",
   "mimetype": "text/x-python",
   "name": "python",
   "nbconvert_exporter": "python",
   "pygments_lexer": "ipython3",
   "version": "3.7.6"
  }
 },
 "nbformat": 4,
 "nbformat_minor": 4
}
