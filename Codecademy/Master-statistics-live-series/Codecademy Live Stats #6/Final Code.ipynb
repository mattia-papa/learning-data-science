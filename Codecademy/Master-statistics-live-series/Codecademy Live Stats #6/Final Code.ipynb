{
 "cells": [
  {
   "cell_type": "code",
   "execution_count": 3,
   "metadata": {},
   "outputs": [],
   "source": [
    "import pandas as pd\n",
    "import numpy as np\n",
    "import matplotlib.pyplot as plt \n",
    "import seaborn as sns\n",
    "import random"
   ]
  },
  {
   "cell_type": "code",
   "execution_count": 8,
   "metadata": {},
   "outputs": [
    {
     "name": "stdout",
     "output_type": "stream",
     "text": [
      "             timestamp purchase                       item\n",
      "0  2020-01-17 17:23:06        y  cue cards - love actually\n",
      "1  2020-01-25 17:09:39        n                        NaN\n",
      "2  2020-01-25 05:22:01        n                        NaN\n",
      "3  2020-01-18 04:33:40        y      t-rex - jurassic park\n",
      "4  2020-01-24 17:24:52        n                        NaN\n"
     ]
    }
   ],
   "source": [
    "monthly_report = pd.read_csv('monthly_report.csv')\n",
    "print(monthly_report.head())"
   ]
  },
  {
   "cell_type": "code",
   "execution_count": 10,
   "metadata": {},
   "outputs": [
    {
     "name": "stdout",
     "output_type": "stream",
     "text": [
      "41\n"
     ]
    }
   ],
   "source": [
    "num_purchases = np.sum(monthly_report.purchase == 'y')\n",
    "print(num_purchases)"
   ]
  },
  {
   "cell_type": "code",
   "execution_count": 11,
   "metadata": {},
   "outputs": [
    {
     "name": "stdout",
     "output_type": "stream",
     "text": [
      "binom_test p-value:  0.1001135269756488\n"
     ]
    }
   ],
   "source": [
    "from scipy.stats import binom_test\n",
    "p_value = binom_test(num_purchases, 500, .1, alternative = 'less')\n",
    "print(\"binom_test p-value: \", p_value)"
   ]
  },
  {
   "cell_type": "code",
   "execution_count": 12,
   "metadata": {},
   "outputs": [
    {
     "name": "stdout",
     "output_type": "stream",
     "text": [
      "binom_test p-value:  0.018632949611333147\n"
     ]
    }
   ],
   "source": [
    "p_value = binom_test(36, 500, .1, alternative = 'less')\n",
    "print(\"binom_test p-value: \", p_value)"
   ]
  },
  {
   "cell_type": "code",
   "execution_count": 21,
   "metadata": {},
   "outputs": [
    {
     "name": "stdout",
     "output_type": "stream",
     "text": [
      "simulated purchases:  46\n",
      "binom_test p-value:  0.3060437171243919\n"
     ]
    }
   ],
   "source": [
    "simulated_monthly_visitors = np.random.choice(['y', 'n'], size=500, p=[0.1, 0.9])\n",
    "sim_purchased = np.sum(simulated_monthly_visitors == 'y')\n",
    "print(\"simulated purchases: \", sim_purchased)\n",
    "p_value = binom_test(sim_purchased, 500, .1, alternative = 'less')\n",
    "print(\"binom_test p-value: \", p_value)"
   ]
  },
  {
   "cell_type": "markdown",
   "metadata": {},
   "source": [
    "|    **Null hypothesis:** | **is true**  | **is false**  |\n",
    "|------------------------:|--------------|---------------|\n",
    "| P-value significant     | Type I Error | Correct!      |\n",
    "| P-value not significant | Correct!     | Type II error |"
   ]
  },
  {
   "cell_type": "code",
   "execution_count": 47,
   "metadata": {},
   "outputs": [
    {
     "name": "stdout",
     "output_type": "stream",
     "text": [
      "0.053\n"
     ]
    }
   ],
   "source": [
    "false_positives = 0 #this is a counter\n",
    "sig_threshold = 0.05 #set significance threshold\n",
    "\n",
    "ss = 500 #sample size\n",
    "pp = 0.1 #probability of a purchase\n",
    "\n",
    "pvals = []\n",
    " \n",
    "for i in range(1000):\n",
    "    sim_visitors = np.random.choice(['y', 'n'], size=ss, p=[pp, 1-pp])\n",
    "    num_purchases = np.sum(sim_visitors == 'y')\n",
    "    p_val = binom_test(num_purchases, ss, pp)\n",
    "    pvals.append(p_val)\n",
    "    if p_val < sig_threshold:\n",
    "        false_positives += 1\n",
    "        \n",
    "print(false_positives/1000)"
   ]
  },
  {
   "cell_type": "code",
   "execution_count": 48,
   "metadata": {},
   "outputs": [
    {
     "data": {
      "image/png": "[encoded data removed]",
      "text/plain": [
       "<Figure size 432x288 with 1 Axes>"
      ]
     },
     "metadata": {
      "needs_background": "light"
     },
     "output_type": "display_data"
    }
   ],
   "source": [
    "plt.hist(pvals)\n",
    "plt.show()"
   ]
  },
  {
   "cell_type": "code",
   "execution_count": 50,
   "metadata": {},
   "outputs": [
    {
     "data": {
      "image/png": "[encoded data removed]",
      "text/plain": [
       "<Figure size 432x288 with 1 Axes>"
      ]
     },
     "metadata": {
      "needs_background": "light"
     },
     "output_type": "display_data"
    }
   ],
   "source": [
    "sig_threshold = 0.05\n",
    "num_tests = np.array(range(50))\n",
    "probabilities = 1-((1-sig_threshold)**num_tests)\n",
    "plt.plot(num_tests, probabilities)\n",
    "\n",
    "plt.title('Type I Error Rate for Multiple Tests', fontsize=15)\n",
    "plt.ylabel('Probability of at Least One Type I Error', fontsize=12)\n",
    "plt.xlabel('Number of Tests', fontsize=12)\n",
    "               \n",
    "plt.show()"
   ]
  },
  {
   "cell_type": "markdown",
   "metadata": {},
   "source": [
    "A relevant comic strip:\n",
    "\n",
    "https://xkcd.com/882/"
   ]
  },
  {
   "cell_type": "code",
   "execution_count": null,
   "metadata": {},
   "outputs": [],
   "source": []
  }
 ],
 "metadata": {
  "kernelspec": {
   "display_name": "Python 3",
   "language": "python",
   "name": "python3"
  },
  "language_info": {
   "codemirror_mode": {
    "name": "ipython",
    "version": 3
   },
   "file_extension": ".py",
   "mimetype": "text/x-python",
   "name": "python",
   "nbconvert_exporter": "python",
   "pygments_lexer": "ipython3",
   "version": "3.7.6"
  }
 },
 "nbformat": 4,
 "nbformat_minor": 4
}
