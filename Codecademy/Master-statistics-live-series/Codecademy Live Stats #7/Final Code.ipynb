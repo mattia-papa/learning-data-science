{
 "cells": [
  {
   "cell_type": "code",
   "execution_count": 1,
   "metadata": {},
   "outputs": [],
   "source": [
    "import pandas as pd\n",
    "import numpy as np\n",
    "import matplotlib.pyplot as plt \n",
    "import seaborn as sns"
   ]
  },
  {
   "cell_type": "markdown",
   "metadata": {},
   "source": [
    "The data was downloaded from the [UCI Machine Learning Repository](https://archive.ics.uci.edu/ml/datasets/Heart+Disease) and then cleaned for analysis. The principal investigators responsible for data collection were:\n",
    "\n",
    "1. Hungarian Institute of Cardiology. Budapest: Andras Janosi, M.D.\n",
    "2. University Hospital, Zurich, Switzerland: William Steinbrunn, M.D.\n",
    "3. University Hospital, Basel, Switzerland: Matthias Pfisterer, M.D.\n",
    "4. V.A. Medical Center, Long Beach and Cleveland Clinic Foundation: Robert Detrano, M.D., Ph.D."
   ]
  },
  {
   "cell_type": "code",
   "execution_count": 2,
   "metadata": {},
   "outputs": [
    {
     "data": {
      "text/html": [
       "<div>\n",
       "<style scoped>\n",
       "    .dataframe tbody tr th:only-of-type {\n",
       "        vertical-align: middle;\n",
       "    }\n",
       "\n",
       "    .dataframe tbody tr th {\n",
       "        vertical-align: top;\n",
       "    }\n",
       "\n",
       "    .dataframe thead th {\n",
       "        text-align: right;\n",
       "    }\n",
       "</style>\n",
       "<table border=\"1\" class=\"dataframe\">\n",
       "  <thead>\n",
       "    <tr style=\"text-align: right;\">\n",
       "      <th></th>\n",
       "      <th>age</th>\n",
       "      <th>sex</th>\n",
       "      <th>trestbps</th>\n",
       "      <th>chol</th>\n",
       "      <th>cp</th>\n",
       "      <th>exang</th>\n",
       "      <th>fbs</th>\n",
       "      <th>thalach</th>\n",
       "      <th>heart_disease</th>\n",
       "    </tr>\n",
       "  </thead>\n",
       "  <tbody>\n",
       "    <tr>\n",
       "      <th>0</th>\n",
       "      <td>63.0</td>\n",
       "      <td>male</td>\n",
       "      <td>145.0</td>\n",
       "      <td>233.0</td>\n",
       "      <td>typical angina</td>\n",
       "      <td>0.0</td>\n",
       "      <td>1.0</td>\n",
       "      <td>150.0</td>\n",
       "      <td>absence</td>\n",
       "    </tr>\n",
       "    <tr>\n",
       "      <th>1</th>\n",
       "      <td>67.0</td>\n",
       "      <td>male</td>\n",
       "      <td>160.0</td>\n",
       "      <td>286.0</td>\n",
       "      <td>asymptomatic</td>\n",
       "      <td>1.0</td>\n",
       "      <td>0.0</td>\n",
       "      <td>108.0</td>\n",
       "      <td>presence</td>\n",
       "    </tr>\n",
       "    <tr>\n",
       "      <th>2</th>\n",
       "      <td>67.0</td>\n",
       "      <td>male</td>\n",
       "      <td>120.0</td>\n",
       "      <td>229.0</td>\n",
       "      <td>asymptomatic</td>\n",
       "      <td>1.0</td>\n",
       "      <td>0.0</td>\n",
       "      <td>129.0</td>\n",
       "      <td>presence</td>\n",
       "    </tr>\n",
       "    <tr>\n",
       "      <th>3</th>\n",
       "      <td>37.0</td>\n",
       "      <td>male</td>\n",
       "      <td>130.0</td>\n",
       "      <td>250.0</td>\n",
       "      <td>non-anginal pain</td>\n",
       "      <td>0.0</td>\n",
       "      <td>0.0</td>\n",
       "      <td>187.0</td>\n",
       "      <td>absence</td>\n",
       "    </tr>\n",
       "    <tr>\n",
       "      <th>4</th>\n",
       "      <td>41.0</td>\n",
       "      <td>female</td>\n",
       "      <td>130.0</td>\n",
       "      <td>204.0</td>\n",
       "      <td>atypical angina</td>\n",
       "      <td>0.0</td>\n",
       "      <td>0.0</td>\n",
       "      <td>172.0</td>\n",
       "      <td>absence</td>\n",
       "    </tr>\n",
       "  </tbody>\n",
       "</table>\n",
       "</div>"
      ],
      "text/plain": [
       "    age     sex  trestbps   chol                cp  exang  fbs  thalach  \\\n",
       "0  63.0    male     145.0  233.0    typical angina    0.0  1.0    150.0   \n",
       "1  67.0    male     160.0  286.0      asymptomatic    1.0  0.0    108.0   \n",
       "2  67.0    male     120.0  229.0      asymptomatic    1.0  0.0    129.0   \n",
       "3  37.0    male     130.0  250.0  non-anginal pain    0.0  0.0    187.0   \n",
       "4  41.0  female     130.0  204.0   atypical angina    0.0  0.0    172.0   \n",
       "\n",
       "  heart_disease  \n",
       "0       absence  \n",
       "1      presence  \n",
       "2      presence  \n",
       "3       absence  \n",
       "4       absence  "
      ]
     },
     "execution_count": 2,
     "metadata": {},
     "output_type": "execute_result"
    }
   ],
   "source": [
    "heart = pd.read_csv('heart_disease.csv')\n",
    "heart.head()"
   ]
  },
  {
   "cell_type": "code",
   "execution_count": 4,
   "metadata": {},
   "outputs": [
    {
     "data": {
      "text/html": [
       "<div>\n",
       "<style scoped>\n",
       "    .dataframe tbody tr th:only-of-type {\n",
       "        vertical-align: middle;\n",
       "    }\n",
       "\n",
       "    .dataframe tbody tr th {\n",
       "        vertical-align: top;\n",
       "    }\n",
       "\n",
       "    .dataframe thead th {\n",
       "        text-align: right;\n",
       "    }\n",
       "</style>\n",
       "<table border=\"1\" class=\"dataframe\">\n",
       "  <thead>\n",
       "    <tr style=\"text-align: right;\">\n",
       "      <th></th>\n",
       "      <th>age</th>\n",
       "      <th>trestbps</th>\n",
       "      <th>chol</th>\n",
       "      <th>exang</th>\n",
       "      <th>fbs</th>\n",
       "      <th>thalach</th>\n",
       "    </tr>\n",
       "    <tr>\n",
       "      <th>heart_disease</th>\n",
       "      <th></th>\n",
       "      <th></th>\n",
       "      <th></th>\n",
       "      <th></th>\n",
       "      <th></th>\n",
       "      <th></th>\n",
       "    </tr>\n",
       "  </thead>\n",
       "  <tbody>\n",
       "    <tr>\n",
       "      <th>absence</th>\n",
       "      <td>52.585366</td>\n",
       "      <td>129.250000</td>\n",
       "      <td>242.640244</td>\n",
       "      <td>0.140244</td>\n",
       "      <td>0.140244</td>\n",
       "      <td>158.378049</td>\n",
       "    </tr>\n",
       "    <tr>\n",
       "      <th>presence</th>\n",
       "      <td>56.625899</td>\n",
       "      <td>134.568345</td>\n",
       "      <td>251.474820</td>\n",
       "      <td>0.546763</td>\n",
       "      <td>0.158273</td>\n",
       "      <td>139.258993</td>\n",
       "    </tr>\n",
       "  </tbody>\n",
       "</table>\n",
       "</div>"
      ],
      "text/plain": [
       "                     age    trestbps        chol     exang       fbs  \\\n",
       "heart_disease                                                          \n",
       "absence        52.585366  129.250000  242.640244  0.140244  0.140244   \n",
       "presence       56.625899  134.568345  251.474820  0.546763  0.158273   \n",
       "\n",
       "                  thalach  \n",
       "heart_disease              \n",
       "absence        158.378049  \n",
       "presence       139.258993  "
      ]
     },
     "execution_count": 4,
     "metadata": {},
     "output_type": "execute_result"
    }
   ],
   "source": [
    "heart.groupby('heart_disease').mean()"
   ]
  },
  {
   "cell_type": "code",
   "execution_count": 5,
   "metadata": {},
   "outputs": [
    {
     "data": {
      "text/html": [
       "<div>\n",
       "<style scoped>\n",
       "    .dataframe tbody tr th:only-of-type {\n",
       "        vertical-align: middle;\n",
       "    }\n",
       "\n",
       "    .dataframe tbody tr th {\n",
       "        vertical-align: top;\n",
       "    }\n",
       "\n",
       "    .dataframe thead th {\n",
       "        text-align: right;\n",
       "    }\n",
       "</style>\n",
       "<table border=\"1\" class=\"dataframe\">\n",
       "  <thead>\n",
       "    <tr style=\"text-align: right;\">\n",
       "      <th></th>\n",
       "      <th>age</th>\n",
       "      <th>trestbps</th>\n",
       "      <th>chol</th>\n",
       "      <th>exang</th>\n",
       "      <th>fbs</th>\n",
       "      <th>thalach</th>\n",
       "    </tr>\n",
       "    <tr>\n",
       "      <th>heart_disease</th>\n",
       "      <th></th>\n",
       "      <th></th>\n",
       "      <th></th>\n",
       "      <th></th>\n",
       "      <th></th>\n",
       "      <th></th>\n",
       "    </tr>\n",
       "  </thead>\n",
       "  <tbody>\n",
       "    <tr>\n",
       "      <th>absence</th>\n",
       "      <td>52.0</td>\n",
       "      <td>130.0</td>\n",
       "      <td>234.5</td>\n",
       "      <td>0.0</td>\n",
       "      <td>0.0</td>\n",
       "      <td>161.0</td>\n",
       "    </tr>\n",
       "    <tr>\n",
       "      <th>presence</th>\n",
       "      <td>58.0</td>\n",
       "      <td>130.0</td>\n",
       "      <td>249.0</td>\n",
       "      <td>1.0</td>\n",
       "      <td>0.0</td>\n",
       "      <td>142.0</td>\n",
       "    </tr>\n",
       "  </tbody>\n",
       "</table>\n",
       "</div>"
      ],
      "text/plain": [
       "                age  trestbps   chol  exang  fbs  thalach\n",
       "heart_disease                                            \n",
       "absence        52.0     130.0  234.5    0.0  0.0    161.0\n",
       "presence       58.0     130.0  249.0    1.0  0.0    142.0"
      ]
     },
     "execution_count": 5,
     "metadata": {},
     "output_type": "execute_result"
    }
   ],
   "source": [
    "heart.groupby('heart_disease').median()"
   ]
  },
  {
   "cell_type": "code",
   "execution_count": 6,
   "metadata": {},
   "outputs": [
    {
     "data": {
      "image/png": "[encoded data removed]",
      "text/plain": [
       "<Figure size 432x288 with 1 Axes>"
      ]
     },
     "metadata": {
      "needs_background": "light"
     },
     "output_type": "display_data"
    }
   ],
   "source": [
    "sns.boxplot(x=heart.heart_disease, y=heart.thalach)\n",
    "plt.show()"
   ]
  },
  {
   "cell_type": "code",
   "execution_count": 17,
   "metadata": {},
   "outputs": [
    {
     "name": "stdout",
     "output_type": "stream",
     "text": [
      "p-value for `thalach` two-sample t-test:  3.456964908430172e-14\n"
     ]
    }
   ],
   "source": [
    "thalach_hd = heart.thalach[heart.heart_disease == 'presence']\n",
    "thalach_no_hd = heart.thalach[heart.heart_disease == 'absence']\n",
    "from scipy.stats import ttest_ind\n",
    "tstat, pval = ttest_ind(thalach_hd, thalach_no_hd)\n",
    "print('p-value for `thalach` two-sample t-test: ', pval)"
   ]
  },
  {
   "cell_type": "code",
   "execution_count": 7,
   "metadata": {},
   "outputs": [
    {
     "data": {
      "image/png": "[encoded data removed]",
      "text/plain": [
       "<Figure size 432x288 with 1 Axes>"
      ]
     },
     "metadata": {
      "needs_background": "light"
     },
     "output_type": "display_data"
    }
   ],
   "source": [
    "sns.boxplot(x=heart.heart_disease, y=heart.age)\n",
    "plt.show()"
   ]
  },
  {
   "cell_type": "code",
   "execution_count": 18,
   "metadata": {},
   "outputs": [
    {
     "name": "stdout",
     "output_type": "stream",
     "text": [
      "p-value for `age` two-sample t-test:  8.955636917529706e-05\n"
     ]
    }
   ],
   "source": [
    "age_hd = heart.age[heart.heart_disease == 'presence']\n",
    "age_no_hd = heart.age[heart.heart_disease == 'absence']\n",
    "tstat, pval = ttest_ind(age_hd, age_no_hd)\n",
    "print('p-value for `age` two-sample t-test: ', pval)"
   ]
  },
  {
   "cell_type": "code",
   "execution_count": 19,
   "metadata": {},
   "outputs": [
    {
     "data": {
      "image/png": "[encoded data removed]",
      "text/plain": [
       "<Figure size 432x288 with 1 Axes>"
      ]
     },
     "metadata": {
      "needs_background": "light"
     },
     "output_type": "display_data"
    }
   ],
   "source": [
    "sns.boxplot(x=heart.heart_disease, y=heart.trestbps)\n",
    "plt.show()"
   ]
  },
  {
   "cell_type": "code",
   "execution_count": 20,
   "metadata": {},
   "outputs": [
    {
     "name": "stdout",
     "output_type": "stream",
     "text": [
      "p-value for `trestbps` two-sample t-test:  0.008548268928594928\n"
     ]
    }
   ],
   "source": [
    "trestbps_hd = heart.trestbps[heart.heart_disease == 'presence']\n",
    "trestbps_no_hd = heart.trestbps[heart.heart_disease == 'absence']\n",
    "tstat, pval = ttest_ind(trestbps_hd, trestbps_no_hd)\n",
    "print('p-value for `trestbps` two-sample t-test: ', pval)"
   ]
  },
  {
   "cell_type": "code",
   "execution_count": 9,
   "metadata": {},
   "outputs": [
    {
     "data": {
      "image/png": "[encoded data removed]",
      "text/plain": [
       "<Figure size 432x288 with 1 Axes>"
      ]
     },
     "metadata": {
      "needs_background": "light"
     },
     "output_type": "display_data"
    }
   ],
   "source": [
    "sns.boxplot(x=heart.heart_disease, y=heart.chol)\n",
    "plt.show()"
   ]
  },
  {
   "cell_type": "code",
   "execution_count": 21,
   "metadata": {},
   "outputs": [
    {
     "name": "stdout",
     "output_type": "stream",
     "text": [
      "p-value for `chol` two-sample t-test:  0.13914167020436527\n"
     ]
    }
   ],
   "source": [
    "chol_hd = heart.chol[heart.heart_disease == 'presence']\n",
    "chol_no_hd = heart.chol[heart.heart_disease == 'absence']\n",
    "tstat, pval = ttest_ind(chol_hd, chol_no_hd)\n",
    "print('p-value for `chol` two-sample t-test: ', pval)"
   ]
  },
  {
   "cell_type": "code",
   "execution_count": 10,
   "metadata": {},
   "outputs": [
    {
     "data": {
      "image/png": "[encoded data removed]",
      "text/plain": [
       "<Figure size 432x288 with 1 Axes>"
      ]
     },
     "metadata": {
      "needs_background": "light"
     },
     "output_type": "display_data"
    }
   ],
   "source": [
    "sns.boxplot(x=heart.cp, y=heart.thalach)\n",
    "plt.show()"
   ]
  },
  {
   "cell_type": "code",
   "execution_count": 11,
   "metadata": {},
   "outputs": [],
   "source": [
    "thalach_typical = heart.thalach[heart.cp == 'typical angina']\n",
    "thalach_asymptom = heart.thalach[heart.cp == 'asymptomatic']\n",
    "thalach_nonangin = heart.thalach[heart.cp == 'non-anginal pain']\n",
    "thalach_atypical = heart.thalach[heart.cp == 'atypical angina']"
   ]
  },
  {
   "cell_type": "code",
   "execution_count": 12,
   "metadata": {},
   "outputs": [
    {
     "name": "stdout",
     "output_type": "stream",
     "text": [
      "p-value for ANOVA:  1.9065505247705008e-10\n"
     ]
    }
   ],
   "source": [
    "from scipy.stats import f_oneway\n",
    "Fstat, pval = f_oneway(thalach_typical, thalach_asymptom, thalach_nonangin, thalach_atypical)\n",
    "print('p-value for ANOVA: ', pval)"
   ]
  },
  {
   "cell_type": "code",
   "execution_count": 13,
   "metadata": {},
   "outputs": [
    {
     "name": "stdout",
     "output_type": "stream",
     "text": [
      "           Multiple Comparison of Means - Tukey HSD, FWER=0.05           \n",
      "=========================================================================\n",
      "     group1           group2      meandiff p-adj   lower    upper  reject\n",
      "-------------------------------------------------------------------------\n",
      "    asymptomatic  atypical angina  21.7394  0.001  12.7439  30.735   True\n",
      "    asymptomatic non-anginal pain  14.7264  0.001    7.258 22.1948   True\n",
      "    asymptomatic   typical angina   15.276 0.0081   2.9702 27.5817   True\n",
      " atypical angina non-anginal pain   -7.013 0.2481 -16.7591   2.733  False\n",
      " atypical angina   typical angina  -6.4635 0.6069 -20.2707  7.3438  False\n",
      "non-anginal pain   typical angina   0.5495    0.9  -12.315 13.4141  False\n",
      "-------------------------------------------------------------------------\n"
     ]
    }
   ],
   "source": [
    "from statsmodels.stats.multicomp import pairwise_tukeyhsd\n",
    "output = pairwise_tukeyhsd(heart.thalach, heart.cp)\n",
    "print(output)"
   ]
  },
  {
   "cell_type": "code",
   "execution_count": 14,
   "metadata": {},
   "outputs": [
    {
     "name": "stdout",
     "output_type": "stream",
     "text": [
      "heart_disease     absence  presence\n",
      "cp                                 \n",
      "asymptomatic           39       105\n",
      "atypical angina        41         9\n",
      "non-anginal pain       68        18\n",
      "typical angina         16         7\n"
     ]
    }
   ],
   "source": [
    "Xtab = pd.crosstab(heart.cp, heart.heart_disease)\n",
    "print(Xtab)"
   ]
  },
  {
   "cell_type": "code",
   "execution_count": 15,
   "metadata": {},
   "outputs": [
    {
     "name": "stdout",
     "output_type": "stream",
     "text": [
      "p-value for chi-square test:  1.2517106007837527e-17\n"
     ]
    }
   ],
   "source": [
    "from scipy.stats import chi2_contingency\n",
    "chi2, pval, dof, exp = chi2_contingency(Xtab)\n",
    "print('p-value for chi-square test: ', pval)"
   ]
  },
  {
   "cell_type": "markdown",
   "metadata": {},
   "source": [
    "# Bonus \n",
    "\n",
    "Simulating these tests (if there's time)"
   ]
  },
  {
   "cell_type": "code",
   "execution_count": 22,
   "metadata": {},
   "outputs": [
    {
     "name": "stdout",
     "output_type": "stream",
     "text": [
      "scipy p-value for `trestbps` two-sample t-test:  0.008548268928594928\n"
     ]
    }
   ],
   "source": [
    "# 2-sample t-test\n",
    "\n",
    "# using a scipy function\n",
    "trestbps_hd = heart.trestbps[heart.heart_disease == 'presence']\n",
    "trestbps_no_hd = heart.trestbps[heart.heart_disease == 'absence']\n",
    "tstat, pval = ttest_ind(trestbps_hd, trestbps_no_hd)\n",
    "print('scipy p-value for `trestbps` two-sample t-test: ', pval)"
   ]
  },
  {
   "cell_type": "code",
   "execution_count": 35,
   "metadata": {},
   "outputs": [],
   "source": [
    "# using simulation\n",
    "null_mean_diffs = []\n",
    "for i in range(1000):\n",
    "    scrambled = np.random.choice(heart.heart_disease, size = len(heart), replace = False)\n",
    "    trestbps_hd_sim = heart.trestbps[scrambled == 'presence']\n",
    "    trestbps_no_hd_sim = heart.trestbps[scrambled == 'absence']\n",
    "    sim_mean_diff = np.mean(trestbps_hd_sim) - np.mean(trestbps_no_hd_sim)\n",
    "    null_mean_diffs.append(sim_mean_diff)"
   ]
  },
  {
   "cell_type": "code",
   "execution_count": 40,
   "metadata": {},
   "outputs": [
    {
     "name": "stdout",
     "output_type": "stream",
     "text": [
      "simulated p-value for `trestbps` two-sample t-test:  0.008\n"
     ]
    }
   ],
   "source": [
    "# calculate p-value\n",
    "observed_mean_diff = np.mean(trestbps_hd) - np.mean(trestbps_no_hd)\n",
    "pval_sim = np.sum(np.array(null_mean_diffs) > observed_mean_diff)/1000 * 2\n",
    "print('simulated p-value for `trestbps` two-sample t-test: ', pval_sim)"
   ]
  },
  {
   "cell_type": "code",
   "execution_count": 36,
   "metadata": {},
   "outputs": [
    {
     "data": {
      "image/png": "[encoded data removed]",
      "text/plain": [
       "<Figure size 432x288 with 1 Axes>"
      ]
     },
     "metadata": {
      "needs_background": "light"
     },
     "output_type": "display_data"
    }
   ],
   "source": [
    "plt.hist(null_mean_diffs)\n",
    "plt.axvline(x = observed_mean_diff, color = 'red')\n",
    "plt.show()"
   ]
  },
  {
   "cell_type": "code",
   "execution_count": 41,
   "metadata": {},
   "outputs": [
    {
     "name": "stdout",
     "output_type": "stream",
     "text": [
      "scipy p-value for chi-square test:  1.2517106007837527e-17\n"
     ]
    }
   ],
   "source": [
    "# chi-sq test with scipy\n",
    "Xtab = pd.crosstab(heart.cp, heart.heart_disease)\n",
    "from scipy.stats import chi2_contingency\n",
    "chi2, pval, dof, exp = chi2_contingency(Xtab)\n",
    "print('scipy p-value for chi-square test: ', pval)"
   ]
  },
  {
   "cell_type": "code",
   "execution_count": 60,
   "metadata": {},
   "outputs": [
    {
     "data": {
      "text/plain": [
       "asymptomatic        0.475248\n",
       "atypical angina     0.165017\n",
       "non-anginal pain    0.283828\n",
       "typical angina      0.075908\n",
       "Name: cp, dtype: float64"
      ]
     },
     "execution_count": 60,
     "metadata": {},
     "output_type": "execute_result"
    }
   ],
   "source": [
    "probs_cp = heart.cp.value_counts(normalize=True).sort_index()\n",
    "probs_cp"
   ]
  },
  {
   "cell_type": "code",
   "execution_count": 61,
   "metadata": {},
   "outputs": [
    {
     "data": {
      "text/plain": [
       "absence     0.541254\n",
       "presence    0.458746\n",
       "Name: heart_disease, dtype: float64"
      ]
     },
     "execution_count": 61,
     "metadata": {},
     "output_type": "execute_result"
    }
   ],
   "source": [
    "probs_hd = heart.heart_disease.value_counts(normalize=True)\n",
    "probs_hd"
   ]
  },
  {
   "cell_type": "code",
   "execution_count": 64,
   "metadata": {},
   "outputs": [
    {
     "name": "stdout",
     "output_type": "stream",
     "text": [
      "[[77.94059406 27.06270627 46.54785479 12.44884488]\n",
      " [66.05940594 22.93729373 39.45214521 10.55115512]]\n",
      "81.81577027653815\n"
     ]
    }
   ],
   "source": [
    "Xtab = pd.crosstab(heart.heart_disease,heart.cp)\n",
    "from scipy.stats import chi2_contingency\n",
    "chi2, pval, dof, exp = chi2_contingency(Xtab)\n",
    "print(exp)\n",
    "print(chi2)"
   ]
  },
  {
   "cell_type": "code",
   "execution_count": 67,
   "metadata": {},
   "outputs": [
    {
     "name": "stdout",
     "output_type": "stream",
     "text": [
      "[[77.94059406 27.06270627 46.54785479 12.44884488]\n",
      " [66.05940594 22.93729373 39.45214521 10.55115512]]\n",
      "81.81577027653816\n"
     ]
    }
   ],
   "source": [
    "observed = pd.crosstab(heart.heart_disease,heart.cp)\n",
    "expected = np.array([probs_hd[0] * probs_cp, probs_hd[1] * probs_cp])*len(heart)\n",
    "print(expected)\n",
    "obs_chi2 = ((observed-expected)**2/expected).sum().sum()\n",
    "print(obs_chi2)"
   ]
  },
  {
   "cell_type": "code",
   "execution_count": 68,
   "metadata": {},
   "outputs": [],
   "source": [
    "null_chisqs = []\n",
    "expected = np.array([probs_hd[0] * probs_cp, probs_hd[1] * probs_cp])*len(heart)\n",
    "\n",
    "for i in range(1000):\n",
    "    scrambled_hd = np.random.choice(heart.heart_disease, size = len(heart), replace = False)\n",
    "    scrambled_cp = np.random.choice(heart.cp, size = len(heart), replace = False)\n",
    "    sim_observed = pd.crosstab(scrambled_hd,scrambled_cp)\n",
    "    sim_chisq = ((sim_observed-expected)**2/expected).sum().sum()\n",
    "    null_chisqs.append(sim_chisq)"
   ]
  },
  {
   "cell_type": "code",
   "execution_count": 69,
   "metadata": {},
   "outputs": [
    {
     "data": {
      "image/png": "[encoded data removed]",
      "text/plain": [
       "<Figure size 432x288 with 1 Axes>"
      ]
     },
     "metadata": {
      "needs_background": "light"
     },
     "output_type": "display_data"
    }
   ],
   "source": [
    "plt.hist(null_chisqs)\n",
    "plt.axvline(x = obs_chi2, color = 'red')\n",
    "plt.show()"
   ]
  },
  {
   "cell_type": "code",
   "execution_count": null,
   "metadata": {},
   "outputs": [],
   "source": []
  }
 ],
 "metadata": {
  "kernelspec": {
   "display_name": "Python 3",
   "language": "python",
   "name": "python3"
  },
  "language_info": {
   "codemirror_mode": {
    "name": "ipython",
    "version": 3
   },
   "file_extension": ".py",
   "mimetype": "text/x-python",
   "name": "python",
   "nbconvert_exporter": "python",
   "pygments_lexer": "ipython3",
   "version": "3.7.6"
  }
 },
 "nbformat": 4,
 "nbformat_minor": 4
}
