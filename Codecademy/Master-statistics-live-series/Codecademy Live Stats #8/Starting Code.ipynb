{
 "cells": [
  {
   "cell_type": "code",
   "execution_count": 3,
   "metadata": {},
   "outputs": [],
   "source": [
    "import pandas as pd\n",
    "import numpy as np\n",
    "import matplotlib.pyplot as plt \n",
    "import seaborn as sns\n",
    "import scipy.stats as st"
   ]
  },
  {
   "cell_type": "code",
   "execution_count": 6,
   "metadata": {},
   "outputs": [
    {
     "name": "stdout",
     "output_type": "stream",
     "text": [
      "       Group Clicked\n",
      "0   Button A      no\n",
      "1   Button A     yes\n",
      "2   Button A      no\n",
      "3   Button A      no\n",
      "4   Button A      no\n",
      "..       ...     ...\n",
      "95  Button B     yes\n",
      "96  Button B      no\n",
      "97  Button B      no\n",
      "98  Button B     yes\n",
      "99  Button B      no\n",
      "\n",
      "[100 rows x 2 columns]\n"
     ]
    }
   ],
   "source": [
    "# simulate data:\n",
    "samp_size = 100\n",
    "A_rate = .5\n",
    "B_rate = (1 + lift) * A_rate\n",
    "\n",
    "clicks_A = np.random.choice(['yes', 'no'],  \n",
    "                            size=int(sample_size/2), \n",
    "                            p=[A_rate, 1-A_rate])\n",
    "clicks_B = np.random.choice(['yes', 'no'],  \n",
    "                            size=int(sample_size/2), \n",
    "                            p=[B_rate, 1-B_rate])\n",
    "outcome = list(clicks_A) + list(clicks_B)\n",
    "group = ['Button A']*int(sample_size/2) + ['Button B']*int(sample_size/2)\n",
    "sim_data = {\"Group\": group, \"Clicked\": outcome}\n",
    "sim_data = pd.DataFrame(sim_data)\n",
    "print(sim_data)"
   ]
  }
 ],
 "metadata": {
  "kernelspec": {
   "display_name": "Python 3",
   "language": "python",
   "name": "python3"
  },
  "language_info": {
   "codemirror_mode": {
    "name": "ipython",
    "version": 3
   },
   "file_extension": ".py",
   "mimetype": "text/x-python",
   "name": "python",
   "nbconvert_exporter": "python",
   "pygments_lexer": "ipython3",
   "version": "3.7.6"
  }
 },
 "nbformat": 4,
 "nbformat_minor": 4
}
